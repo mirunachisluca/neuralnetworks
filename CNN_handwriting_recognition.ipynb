{
 "cells": [
  {
   "cell_type": "code",
   "execution_count": 1,
   "metadata": {},
   "outputs": [
    {
     "name": "stderr",
     "output_type": "stream",
     "text": [
      "Using TensorFlow backend.\n"
     ]
    }
   ],
   "source": [
    "import tensorflow as tf\n",
    "import matplotlib.pyplot as plt\n",
    "import numpy as np\n",
    "import tensorflow.keras as keras\n",
    "from keras.models import Sequential\n",
    "from keras.layers import Dense, Conv2D, Dropout, Flatten, MaxPooling2D, ReLU, BatchNormalization, AveragePooling2D, Add\n",
    "from keras import layers\n",
    "from tensorflow import Tensor\n",
    "from tensorflow.keras.models import Model"
   ]
  },
  {
   "cell_type": "code",
   "execution_count": 2,
   "metadata": {},
   "outputs": [],
   "source": [
    "# loading the dataset\n",
    "(x_train, y_train), (x_test, y_test) = tf.keras.datasets.mnist.load_data()\n",
    "img_rows, img_cols = 28, 28"
   ]
  },
  {
   "cell_type": "code",
   "execution_count": 3,
   "metadata": {},
   "outputs": [
    {
     "name": "stdout",
     "output_type": "stream",
     "text": [
      "8\n"
     ]
    },
    {
     "data": {
      "text/plain": [
       "<matplotlib.image.AxesImage at 0x1f5a551a308>"
      ]
     },
     "execution_count": 3,
     "metadata": {},
     "output_type": "execute_result"
    },
    {
     "data": {
      "image/png": "[encoded data removed]",
      "text/plain": [
       "<Figure size 432x288 with 1 Axes>"
      ]
     },
     "metadata": {
      "needs_background": "light"
     },
     "output_type": "display_data"
    }
   ],
   "source": [
    "# sample image\n",
    "image_index = 7777\n",
    "print(y_train[image_index]) # The label is 8\n",
    "plt.imshow(x_train[image_index], cmap='Greys')"
   ]
  },
  {
   "cell_type": "code",
   "execution_count": 4,
   "metadata": {},
   "outputs": [
    {
     "name": "stdout",
     "output_type": "stream",
     "text": [
      "x_train shape: (60000, 28, 28, 1)\n",
      "Number of images in x_train 60000\n",
      "Number of images in x_test 10000\n"
     ]
    }
   ],
   "source": [
    "# reshaping the array to 4-dims so that it can work with the Keras API\n",
    "x_train = x_train.reshape(x_train.shape[0], 28, 28, 1)\n",
    "x_test = x_test.reshape(x_test.shape[0], 28, 28, 1)\n",
    "input_shape = (28, 28, 1)\n",
    "\n",
    "# making sure that the values are float so that we can get decimal points after division\n",
    "x_train = x_train.astype('float32')\n",
    "x_test = x_test.astype('float32')\n",
    "\n",
    "# normalizing the RGB colors by dividing them to the max RGB value.\n",
    "x_train /= 255\n",
    "x_test /= 255\n",
    "\n",
    "print('x_train shape:', x_train.shape)\n",
    "print('Number of images in x_train', x_train.shape[0])\n",
    "print('Number of images in x_test', x_test.shape[0])"
   ]
  },
  {
   "cell_type": "code",
   "execution_count": 5,
   "metadata": {},
   "outputs": [],
   "source": [
    "#CNN\n",
    "\n",
    "# creating a Sequential Model and adding the layers\n",
    "model = Sequential()\n",
    "model.add(Conv2D(256, kernel_size=(5,5), activation=\"relu\", strides=1, input_shape=input_shape))\n",
    "model.add(Conv2D(256, kernel_size=(5,5), activation=\"relu\", strides=1))\n",
    "model.add(Conv2D(128, kernel_size=(5,5), activation=\"relu\", strides=1))\n",
    "\n",
    "model.add(MaxPooling2D(pool_size=(2, 2)))\n",
    "\n",
    "model.add(Flatten()) # Flattening the 2D arrays for fully connected layers\n",
    "model.add(Dense(10,activation=tf.nn.softmax))"
   ]
  },
  {
   "cell_type": "code",
   "execution_count": 6,
   "metadata": {},
   "outputs": [
    {
     "name": "stdout",
     "output_type": "stream",
     "text": [
      "Model: \"sequential\"\n",
      "_________________________________________________________________\n",
      "Layer (type)                 Output Shape              Param #   \n",
      "=================================================================\n",
      "conv2d (Conv2D)              (None, 24, 24, 256)       6656      \n",
      "_________________________________________________________________\n",
      "conv2d_1 (Conv2D)            (None, 20, 20, 256)       1638656   \n",
      "_________________________________________________________________\n",
      "conv2d_2 (Conv2D)            (None, 16, 16, 128)       819328    \n",
      "_________________________________________________________________\n",
      "max_pooling2d (MaxPooling2D) (None, 8, 8, 128)         0         \n",
      "_________________________________________________________________\n",
      "flatten (Flatten)            (None, 8192)              0         \n",
      "_________________________________________________________________\n",
      "dense (Dense)                (None, 10)                81930     \n",
      "=================================================================\n",
      "Total params: 2,546,570\n",
      "Trainable params: 2,546,570\n",
      "Non-trainable params: 0\n",
      "_________________________________________________________________\n"
     ]
    }
   ],
   "source": [
    "# the nn layers\n",
    "model.summary()"
   ]
  },
  {
   "cell_type": "code",
   "execution_count": 7,
   "metadata": {},
   "outputs": [],
   "source": [
    "# because it takes a lot of time to fit the data, I am using a simplified version of the network\n",
    "model = Sequential()\n",
    "model.add(Conv2D(256, kernel_size=(5,5), activation=\"relu\", strides=1, input_shape=input_shape))\n",
    "\n",
    "model.add(MaxPooling2D(pool_size=(2, 2)))\n",
    "\n",
    "model.add(Flatten()) # Flattening the 2D arrays for fully connected layers\n",
    "\n",
    "model.add(Dense(10,activation=tf.nn.softmax))"
   ]
  },
  {
   "cell_type": "code",
   "execution_count": 8,
   "metadata": {},
   "outputs": [
    {
     "name": "stdout",
     "output_type": "stream",
     "text": [
      "Epoch 1/50\n",
      "1875/1875 [==============================] - 126s 67ms/step - loss: 1.5601 - accuracy: 0.9045 - val_loss: 1.4838 - val_accuracy: 0.9787\n",
      "Epoch 2/50\n",
      "1875/1875 [==============================] - 124s 66ms/step - loss: 1.4840 - accuracy: 0.9784 - val_loss: 1.4788 - val_accuracy: 0.9833\n",
      "Epoch 3/50\n",
      "1875/1875 [==============================] - 113s 60ms/step - loss: 1.4786 - accuracy: 0.9831 - val_loss: 1.4791 - val_accuracy: 0.9826\n",
      "Epoch 4/50\n",
      "1875/1875 [==============================] - 118s 63ms/step - loss: 1.4760 - accuracy: 0.9857 - val_loss: 1.4774 - val_accuracy: 0.9841\n",
      "Epoch 5/50\n",
      "1875/1875 [==============================] - 118s 63ms/step - loss: 1.4736 - accuracy: 0.9880 - val_loss: 1.4766 - val_accuracy: 0.9848\n",
      "Epoch 6/50\n",
      "1875/1875 [==============================] - 114s 61ms/step - loss: 1.4722 - accuracy: 0.9894 - val_loss: 1.4764 - val_accuracy: 0.9852\n",
      "Epoch 7/50\n",
      "1875/1875 [==============================] - 116s 62ms/step - loss: 1.4712 - accuracy: 0.9901 - val_loss: 1.4761 - val_accuracy: 0.9849\n",
      "Epoch 8/50\n",
      "1875/1875 [==============================] - 108s 58ms/step - loss: 1.4713 - accuracy: 0.9901 - val_loss: 1.4752 - val_accuracy: 0.9867\n",
      "Epoch 9/50\n",
      "1875/1875 [==============================] - 118s 63ms/step - loss: 1.4699 - accuracy: 0.9915 - val_loss: 1.4750 - val_accuracy: 0.9866\n",
      "Epoch 10/50\n",
      "1875/1875 [==============================] - 111s 59ms/step - loss: 1.4694 - accuracy: 0.9919 - val_loss: 1.4737 - val_accuracy: 0.9875\n",
      "Epoch 11/50\n",
      "1875/1875 [==============================] - 111s 59ms/step - loss: 1.4683 - accuracy: 0.9930 - val_loss: 1.4768 - val_accuracy: 0.9844\n",
      "Epoch 12/50\n",
      "1875/1875 [==============================] - 118s 63ms/step - loss: 1.4679 - accuracy: 0.9934 - val_loss: 1.4744 - val_accuracy: 0.9871\n",
      "Epoch 13/50\n",
      "1875/1875 [==============================] - 108s 57ms/step - loss: 1.4675 - accuracy: 0.9937 - val_loss: 1.4758 - val_accuracy: 0.9853\n",
      "Epoch 14/50\n",
      "1875/1875 [==============================] - 114s 61ms/step - loss: 1.4673 - accuracy: 0.9940 - val_loss: 1.4769 - val_accuracy: 0.9844\n",
      "Epoch 15/50\n",
      "1875/1875 [==============================] - 115s 61ms/step - loss: 1.4675 - accuracy: 0.9937 - val_loss: 1.4741 - val_accuracy: 0.9872\n",
      "Epoch 16/50\n",
      "1875/1875 [==============================] - 109s 58ms/step - loss: 1.4669 - accuracy: 0.9944 - val_loss: 1.4747 - val_accuracy: 0.9862\n",
      "Epoch 17/50\n",
      "1875/1875 [==============================] - 117s 63ms/step - loss: 1.4669 - accuracy: 0.9944 - val_loss: 1.4756 - val_accuracy: 0.9852\n",
      "Epoch 18/50\n",
      "1875/1875 [==============================] - 111s 59ms/step - loss: 1.4662 - accuracy: 0.9952 - val_loss: 1.4757 - val_accuracy: 0.9856\n",
      "Epoch 19/50\n",
      "1875/1875 [==============================] - 112s 59ms/step - loss: 1.4664 - accuracy: 0.9948 - val_loss: 1.4738 - val_accuracy: 0.9874\n",
      "Epoch 20/50\n",
      "1875/1875 [==============================] - 118s 63ms/step - loss: 1.4657 - accuracy: 0.9955 - val_loss: 1.4744 - val_accuracy: 0.9866\n",
      "Epoch 21/50\n",
      "1875/1875 [==============================] - 134s 72ms/step - loss: 1.4660 - accuracy: 0.9952 - val_loss: 1.4758 - val_accuracy: 0.9852\n",
      "Epoch 22/50\n",
      "1875/1875 [==============================] - 119s 64ms/step - loss: 1.4656 - accuracy: 0.9956 - val_loss: 1.4773 - val_accuracy: 0.9836\n",
      "Epoch 23/50\n",
      "1875/1875 [==============================] - 115s 61ms/step - loss: 1.4655 - accuracy: 0.9958 - val_loss: 1.4740 - val_accuracy: 0.9870\n",
      "Epoch 24/50\n",
      "1875/1875 [==============================] - 116s 62ms/step - loss: 1.4653 - accuracy: 0.9960 - val_loss: 1.4740 - val_accuracy: 0.9874\n",
      "Epoch 25/50\n",
      "1875/1875 [==============================] - 121s 64ms/step - loss: 1.4649 - accuracy: 0.9962 - val_loss: 1.4730 - val_accuracy: 0.9884\n",
      "Epoch 26/50\n",
      "1875/1875 [==============================] - 114s 61ms/step - loss: 1.4650 - accuracy: 0.9963 - val_loss: 1.4733 - val_accuracy: 0.9878\n",
      "Epoch 27/50\n",
      "1875/1875 [==============================] - 120s 64ms/step - loss: 1.4648 - accuracy: 0.9963 - val_loss: 1.4738 - val_accuracy: 0.9872\n",
      "Epoch 28/50\n",
      "1875/1875 [==============================] - 121s 64ms/step - loss: 1.4648 - accuracy: 0.9963 - val_loss: 1.4747 - val_accuracy: 0.9867\n",
      "Epoch 29/50\n",
      "1875/1875 [==============================] - 115s 62ms/step - loss: 1.4649 - accuracy: 0.9964 - val_loss: 1.4731 - val_accuracy: 0.9881\n",
      "Epoch 30/50\n",
      "1875/1875 [==============================] - 122s 65ms/step - loss: 1.4647 - accuracy: 0.9964 - val_loss: 1.4749 - val_accuracy: 0.9860\n",
      "Epoch 31/50\n",
      "1875/1875 [==============================] - 114s 61ms/step - loss: 1.4645 - accuracy: 0.9966 - val_loss: 1.4746 - val_accuracy: 0.9866\n",
      "Epoch 32/50\n",
      "1875/1875 [==============================] - 117s 62ms/step - loss: 1.4646 - accuracy: 0.9966 - val_loss: 1.4743 - val_accuracy: 0.9869\n",
      "Epoch 33/50\n",
      "1875/1875 [==============================] - 113s 60ms/step - loss: 1.4644 - accuracy: 0.9968 - val_loss: 1.4751 - val_accuracy: 0.9856\n",
      "Epoch 34/50\n",
      "1875/1875 [==============================] - 116s 62ms/step - loss: 1.4642 - accuracy: 0.9970 - val_loss: 1.4757 - val_accuracy: 0.9851\n",
      "Epoch 35/50\n",
      "1875/1875 [==============================] - 113s 60ms/step - loss: 1.4641 - accuracy: 0.9971 - val_loss: 1.4742 - val_accuracy: 0.9867\n",
      "Epoch 36/50\n",
      "1875/1875 [==============================] - 109s 58ms/step - loss: 1.4640 - accuracy: 0.9971 - val_loss: 1.4734 - val_accuracy: 0.9876\n",
      "Epoch 37/50\n",
      "1875/1875 [==============================] - 112s 60ms/step - loss: 1.4641 - accuracy: 0.9971 - val_loss: 1.4735 - val_accuracy: 0.9874\n",
      "Epoch 38/50\n",
      "1875/1875 [==============================] - 109s 58ms/step - loss: 1.4641 - accuracy: 0.9970 - val_loss: 1.4776 - val_accuracy: 0.9838\n",
      "Epoch 39/50\n",
      "1875/1875 [==============================] - 109s 58ms/step - loss: 1.4642 - accuracy: 0.9969 - val_loss: 1.4736 - val_accuracy: 0.9875\n",
      "Epoch 40/50\n",
      "1875/1875 [==============================] - 113s 60ms/step - loss: 1.4643 - accuracy: 0.9969 - val_loss: 1.4747 - val_accuracy: 0.9861\n",
      "Epoch 41/50\n",
      "1875/1875 [==============================] - 109s 58ms/step - loss: 1.4639 - accuracy: 0.9973 - val_loss: 1.4737 - val_accuracy: 0.9872\n",
      "Epoch 42/50\n",
      "1875/1875 [==============================] - 110s 59ms/step - loss: 1.4639 - accuracy: 0.9973 - val_loss: 1.4722 - val_accuracy: 0.9893\n",
      "Epoch 43/50\n",
      "1875/1875 [==============================] - 111s 59ms/step - loss: 1.4637 - accuracy: 0.9974 - val_loss: 1.4737 - val_accuracy: 0.9876\n",
      "Epoch 44/50\n",
      "1875/1875 [==============================] - 110s 59ms/step - loss: 1.4639 - accuracy: 0.9973 - val_loss: 1.4736 - val_accuracy: 0.9877\n",
      "Epoch 45/50\n",
      "1875/1875 [==============================] - 113s 60ms/step - loss: 1.4638 - accuracy: 0.9973 - val_loss: 1.4736 - val_accuracy: 0.9877\n",
      "Epoch 46/50\n",
      "1875/1875 [==============================] - 109s 58ms/step - loss: 1.4640 - accuracy: 0.9971 - val_loss: 1.4762 - val_accuracy: 0.9850\n",
      "Epoch 47/50\n",
      "1875/1875 [==============================] - 109s 58ms/step - loss: 1.4636 - accuracy: 0.9975 - val_loss: 1.4729 - val_accuracy: 0.9881\n",
      "Epoch 48/50\n",
      "1875/1875 [==============================] - 113s 60ms/step - loss: 1.4636 - accuracy: 0.9976 - val_loss: 1.4729 - val_accuracy: 0.9882\n",
      "Epoch 49/50\n",
      "1875/1875 [==============================] - 109s 58ms/step - loss: 1.4641 - accuracy: 0.9970 - val_loss: 1.4729 - val_accuracy: 0.9882\n",
      "Epoch 50/50\n",
      "1875/1875 [==============================] - 110s 58ms/step - loss: 1.4637 - accuracy: 0.9975 - val_loss: 1.4742 - val_accuracy: 0.9868\n"
     ]
    }
   ],
   "source": [
    "model.compile(optimizer='adam',\n",
    "              loss=tf.keras.losses.SparseCategoricalCrossentropy(from_logits=True),\n",
    "              metrics=['accuracy'])\n",
    "\n",
    "history = model.fit(x_train, y_train, epochs=50, \n",
    "                    validation_data=(x_test, y_test))"
   ]
  },
  {
   "cell_type": "code",
   "execution_count": 9,
   "metadata": {},
   "outputs": [
    {
     "name": "stdout",
     "output_type": "stream",
     "text": [
      "313/313 [==============================] - 5s 17ms/step - loss: 1.4742 - accuracy: 0.9868\n"
     ]
    },
    {
     "data": {
      "text/plain": [
       "[1.4742182493209839, 0.9868000149726868]"
      ]
     },
     "execution_count": 9,
     "metadata": {},
     "output_type": "execute_result"
    }
   ],
   "source": [
    "# model evaluation\n",
    "model.evaluate(x_test, y_test)"
   ]
  },
  {
   "cell_type": "code",
   "execution_count": 10,
   "metadata": {},
   "outputs": [
    {
     "data": {
      "image/png": "[encoded data removed]",
      "text/plain": [
       "<Figure size 432x288 with 1 Axes>"
      ]
     },
     "metadata": {
      "needs_background": "light"
     },
     "output_type": "display_data"
    }
   ],
   "source": [
    "# model evaluation\n",
    "plt.plot(history.history['accuracy'], label='accuracy')\n",
    "plt.plot(history.history['val_accuracy'], label = 'val_accuracy')\n",
    "plt.xlabel('Epoch')\n",
    "plt.ylabel('Accuracy')\n",
    "plt.ylim([0.5, 1])\n",
    "plt.legend(loc='lower right')\n",
    "plt.show()\n",
    "\n",
    "#test_loss, test_acc = model.evaluate(x_test,  y_test, verbose=2)"
   ]
  },
  {
   "cell_type": "code",
   "execution_count": 11,
   "metadata": {},
   "outputs": [
    {
     "name": "stdout",
     "output_type": "stream",
     "text": [
      "Model: \"ResNet\"\n",
      "__________________________________________________________________________________________________\n",
      "Layer (type)                    Output Shape         Param #     Connected to                     \n",
      "==================================================================================================\n",
      "input_1 (InputLayer)            [(None, 28, 28, 1)]  0                                            \n",
      "__________________________________________________________________________________________________\n",
      "batch_normalization (BatchNorma (None, 28, 28, 1)    4           input_1[0][0]                    \n",
      "__________________________________________________________________________________________________\n",
      "conv2d_4 (Conv2D)               (None, 28, 28, 64)   640         batch_normalization[0][0]        \n",
      "__________________________________________________________________________________________________\n",
      "conv2d_5 (Conv2D)               (None, 28, 28, 64)   36928       conv2d_4[0][0]                   \n",
      "__________________________________________________________________________________________________\n",
      "conv2d_6 (Conv2D)               (None, 28, 28, 64)   36928       conv2d_5[0][0]                   \n",
      "__________________________________________________________________________________________________\n",
      "add (Add)                       (None, 28, 28, 64)   0           conv2d_4[0][0]                   \n",
      "                                                                 conv2d_6[0][0]                   \n",
      "__________________________________________________________________________________________________\n",
      "re_lu (ReLU)                    (None, 28, 28, 64)   0           add[0][0]                        \n",
      "__________________________________________________________________________________________________\n",
      "average_pooling2d (AveragePooli (None, 7, 7, 64)     0           re_lu[0][0]                      \n",
      "__________________________________________________________________________________________________\n",
      "flatten_2 (Flatten)             (None, 3136)         0           average_pooling2d[0][0]          \n",
      "__________________________________________________________________________________________________\n",
      "dense_2 (Dense)                 (None, 10)           31370       flatten_2[0][0]                  \n",
      "==================================================================================================\n",
      "Total params: 105,870\n",
      "Trainable params: 105,868\n",
      "Non-trainable params: 2\n",
      "__________________________________________________________________________________________________\n"
     ]
    }
   ],
   "source": [
    "#ResNet\n",
    "\n",
    "\n",
    "inputs = keras.Input(shape=input_shape)\n",
    "num_filters = 64\n",
    "kernel_size = 3\n",
    "    \n",
    "x = BatchNormalization()(inputs)\n",
    "x = Conv2D(kernel_size=3,\n",
    "        activation = \"relu\",\n",
    "        strides=1,\n",
    "        filters=num_filters,\n",
    "        padding=\"same\")(x)\n",
    "\n",
    "y = Conv2D(kernel_size=kernel_size,\n",
    "        activation=\"relu\",\n",
    "        strides= 1,\n",
    "        filters=num_filters,\n",
    "        padding=\"same\")(x)\n",
    "\n",
    "y = Conv2D(kernel_size=kernel_size,\n",
    "        activation=\"relu\",\n",
    "        strides=1,\n",
    "        filters=num_filters,\n",
    "        padding=\"same\")(y)\n",
    "\n",
    "out = Add()([x, y])\n",
    "out = ReLU()(out)\n",
    "\n",
    "out = AveragePooling2D(4)(out)\n",
    "out = Flatten()(out)\n",
    "\n",
    "outputs = Dense(10, activation='softmax')(out)\n",
    "    \n",
    "model = Model(inputs, outputs, name=\"ResNet\")\n",
    "\n",
    "model.summary()"
   ]
  },
  {
   "cell_type": "code",
   "execution_count": 12,
   "metadata": {},
   "outputs": [
    {
     "name": "stdout",
     "output_type": "stream",
     "text": [
      "Epoch 1/30\n",
      "1875/1875 [==============================] - 382s 204ms/step - loss: 1.6723 - accuracy: 0.7887 - val_loss: 1.5007 - val_accuracy: 0.9600\n",
      "Epoch 2/30\n",
      "1875/1875 [==============================] - 376s 200ms/step - loss: 1.4945 - accuracy: 0.9665 - val_loss: 1.4832 - val_accuracy: 0.9782\n",
      "Epoch 3/30\n",
      "1875/1875 [==============================] - 376s 200ms/step - loss: 1.4893 - accuracy: 0.9717 - val_loss: 1.4881 - val_accuracy: 0.9730\n",
      "Epoch 4/30\n",
      "1875/1875 [==============================] - 377s 201ms/step - loss: 1.4882 - accuracy: 0.9729 - val_loss: 1.4841 - val_accuracy: 0.9770\n",
      "Epoch 5/30\n",
      "1875/1875 [==============================] - 378s 202ms/step - loss: 1.4876 - accuracy: 0.9734 - val_loss: 1.4831 - val_accuracy: 0.9780\n",
      "Epoch 6/30\n",
      "1875/1875 [==============================] - 379s 202ms/step - loss: 1.4855 - accuracy: 0.9757 - val_loss: 1.4806 - val_accuracy: 0.9805\n",
      "Epoch 7/30\n",
      "1875/1875 [==============================] - 381s 203ms/step - loss: 1.4856 - accuracy: 0.9756 - val_loss: 1.4813 - val_accuracy: 0.9799\n",
      "Epoch 8/30\n",
      "1875/1875 [==============================] - 377s 201ms/step - loss: 1.4836 - accuracy: 0.9775 - val_loss: 1.4786 - val_accuracy: 0.9824\n",
      "Epoch 9/30\n",
      "1875/1875 [==============================] - 379s 202ms/step - loss: 1.4839 - accuracy: 0.9772 - val_loss: 1.4879 - val_accuracy: 0.9733\n",
      "Epoch 10/30\n",
      "1875/1875 [==============================] - 373s 199ms/step - loss: 1.4830 - accuracy: 0.9782 - val_loss: 1.4811 - val_accuracy: 0.9800\n",
      "Epoch 11/30\n",
      "1875/1875 [==============================] - 22133s 12s/step - loss: 1.4861 - accuracy: 0.9750 - val_loss: 1.4840 - val_accuracy: 0.9772\n",
      "Epoch 12/30\n",
      "1875/1875 [==============================] - 376s 201ms/step - loss: 1.4847 - accuracy: 0.9764 - val_loss: 1.4888 - val_accuracy: 0.9723\n",
      "Epoch 13/30\n",
      "1875/1875 [==============================] - 364s 194ms/step - loss: 1.4831 - accuracy: 0.9781 - val_loss: 1.4909 - val_accuracy: 0.9702\n",
      "Epoch 14/30\n",
      "1875/1875 [==============================] - 365s 195ms/step - loss: 1.4851 - accuracy: 0.9761 - val_loss: 1.4846 - val_accuracy: 0.9766\n",
      "Epoch 15/30\n",
      "1875/1875 [==============================] - 395s 211ms/step - loss: 1.4842 - accuracy: 0.9769 - val_loss: 1.4906 - val_accuracy: 0.9704\n",
      "Epoch 16/30\n",
      "1875/1875 [==============================] - 369s 197ms/step - loss: 1.4855 - accuracy: 0.9756 - val_loss: 1.4848 - val_accuracy: 0.9763\n",
      "Epoch 17/30\n",
      "1875/1875 [==============================] - 381s 203ms/step - loss: 1.4850 - accuracy: 0.9761 - val_loss: 1.4844 - val_accuracy: 0.9767\n",
      "Epoch 18/30\n",
      "1875/1875 [==============================] - 368s 196ms/step - loss: 1.4829 - accuracy: 0.9782 - val_loss: 1.4869 - val_accuracy: 0.9743\n",
      "Epoch 19/30\n",
      "1875/1875 [==============================] - 365s 195ms/step - loss: 1.4876 - accuracy: 0.9736 - val_loss: 1.4922 - val_accuracy: 0.9690\n",
      "Epoch 20/30\n",
      "1875/1875 [==============================] - 363s 194ms/step - loss: 1.4825 - accuracy: 0.9786 - val_loss: 1.4941 - val_accuracy: 0.9671\n",
      "Epoch 21/30\n",
      "1875/1875 [==============================] - 369s 197ms/step - loss: 1.4880 - accuracy: 0.9732 - val_loss: 1.4850 - val_accuracy: 0.9761\n",
      "Epoch 22/30\n",
      "1875/1875 [==============================] - 372s 198ms/step - loss: 1.4835 - accuracy: 0.9777 - val_loss: 1.4817 - val_accuracy: 0.9795\n",
      "Epoch 23/30\n",
      "1875/1875 [==============================] - 370s 197ms/step - loss: 1.4847 - accuracy: 0.9765 - val_loss: 1.4813 - val_accuracy: 0.9798\n",
      "Epoch 24/30\n",
      "1875/1875 [==============================] - 389s 207ms/step - loss: 1.4854 - accuracy: 0.9758 - val_loss: 1.4797 - val_accuracy: 0.9815\n",
      "Epoch 25/30\n",
      "1875/1875 [==============================] - 398s 212ms/step - loss: 1.4908 - accuracy: 0.9703 - val_loss: 1.4871 - val_accuracy: 0.9740\n",
      "Epoch 26/30\n",
      "1875/1875 [==============================] - 406s 216ms/step - loss: 1.4917 - accuracy: 0.9694 - val_loss: 1.4899 - val_accuracy: 0.9712\n",
      "Epoch 27/30\n",
      "1875/1875 [==============================] - 385s 205ms/step - loss: 1.4909 - accuracy: 0.9702 - val_loss: 1.4803 - val_accuracy: 0.9809\n",
      "Epoch 28/30\n",
      "1875/1875 [==============================] - 433s 231ms/step - loss: 1.4876 - accuracy: 0.9736 - val_loss: 1.4805 - val_accuracy: 0.9806\n",
      "Epoch 29/30\n",
      "1875/1875 [==============================] - 605s 322ms/step - loss: 1.4864 - accuracy: 0.9747 - val_loss: 1.4844 - val_accuracy: 0.9767\n",
      "Epoch 30/30\n",
      "1875/1875 [==============================] - 489s 261ms/step - loss: 1.4946 - accuracy: 0.9666 - val_loss: 1.4949 - val_accuracy: 0.9663\n"
     ]
    }
   ],
   "source": [
    "model.compile(optimizer='adam',\n",
    "              loss=tf.keras.losses.SparseCategoricalCrossentropy(from_logits=True),\n",
    "              metrics=['accuracy'])\n",
    "\n",
    "history = model.fit(x_train, y_train, epochs=30, \n",
    "                    validation_data=(x_test, y_test))"
   ]
  },
  {
   "cell_type": "code",
   "execution_count": 13,
   "metadata": {},
   "outputs": [
    {
     "name": "stdout",
     "output_type": "stream",
     "text": [
      "313/313 [==============================] - 22s 71ms/step - loss: 1.4949 - accuracy: 0.9663\n"
     ]
    },
    {
     "data": {
      "text/plain": [
       "[1.4948866367340088, 0.9663000106811523]"
      ]
     },
     "execution_count": 13,
     "metadata": {},
     "output_type": "execute_result"
    }
   ],
   "source": [
    "# model evaluation\n",
    "model.evaluate(x_test, y_test)"
   ]
  },
  {
   "cell_type": "code",
   "execution_count": 14,
   "metadata": {},
   "outputs": [
    {
     "data": {
      "image/png": "[encoded data removed]",
      "text/plain": [
       "<Figure size 432x288 with 1 Axes>"
      ]
     },
     "metadata": {
      "needs_background": "light"
     },
     "output_type": "display_data"
    }
   ],
   "source": [
    "# model evaluation\n",
    "plt.plot(history.history['accuracy'], label='accuracy')\n",
    "plt.plot(history.history['val_accuracy'], label = 'val_accuracy')\n",
    "plt.xlabel('Epoch')\n",
    "plt.ylabel('Accuracy')\n",
    "plt.ylim([0.5, 1])\n",
    "plt.legend(loc='lower right')\n",
    "plt.show()"
   ]
  }
 ],
 "metadata": {
  "kernelspec": {
   "display_name": "Python 3",
   "language": "python",
   "name": "python3"
  },
  "language_info": {
   "codemirror_mode": {
    "name": "ipython",
    "version": 3
   },
   "file_extension": ".py",
   "mimetype": "text/x-python",
   "name": "python",
   "nbconvert_exporter": "python",
   "pygments_lexer": "ipython3",
   "version": "3.7.6"
  }
 },
 "nbformat": 4,
 "nbformat_minor": 4
}
